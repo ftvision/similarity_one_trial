{
 "cells": [
  {
   "cell_type": "markdown",
   "metadata": {},
   "source": [
    "# Similarity Judgement"
   ]
  },
  {
   "cell_type": "code",
   "execution_count": 1,
   "metadata": {
    "collapsed": false
   },
   "outputs": [],
   "source": [
    "#Via Gmail API\n",
    "import base64\n",
    "import httplib2\n",
    "import email\n",
    "from email.mime.text import MIMEText\n",
    "\n",
    "from apiclient.discovery import build\n",
    "from oauth2client.client import flow_from_clientsecrets\n",
    "from oauth2client.file import Storage\n",
    "from oauth2client.tools import run\n",
    "\n",
    "SCOPES = 'https://www.googleapis.com/auth/gmail.readonly'\n",
    "CLIENT_SECRET_FILE = 'client_secret.json'\n",
    "APPLICATION_NAME = 'Gmail API Python Quickstart'\n"
   ]
  },
  {
   "cell_type": "code",
   "execution_count": 2,
   "metadata": {
    "collapsed": false
   },
   "outputs": [
    {
     "name": "stdout",
     "output_type": "stream",
     "text": [
      "190\n"
     ]
    }
   ],
   "source": [
    "# Path to the client_secret.json file downloaded from the Developer Console\n",
    "#CLIENT_SECRET_FILE = 'client_secret_william1121.json'\n",
    "CLIENT_SECRET_FILE = 'client_secret.json'\n",
    "\n",
    "\n",
    "# Check https://developers.google.com/gmail/api/auth/scopes for all available scopes\n",
    "OAUTH_SCOPE = 'https://www.googleapis.com/auth/gmail.readonly'\n",
    "\n",
    "# Location of the credentials storage file\n",
    "STORAGE = Storage('gmail.storage')\n",
    "\n",
    "# Start the OAuth flow to retrieve credentials\n",
    "flow = flow_from_clientsecrets(CLIENT_SECRET_FILE, scope=OAUTH_SCOPE)\n",
    "http = httplib2.Http()\n",
    "\n",
    "# Try to retrieve credentials from storage or run the flow to generate them\n",
    "credentials = STORAGE.get()\n",
    "if credentials is None or credentials.invalid:\n",
    "  credentials = run(flow, STORAGE, http=http)\n",
    "\n",
    "# Authorize the httplib2.Http object with our credentials\n",
    "http = credentials.authorize(http)\n",
    "\n",
    "# Build the Gmail service from discovery\n",
    "gmail_service = build('gmail', 'v1', http=http)\n",
    "\n",
    "\n",
    "# Get all messages\n",
    "results = gmail_service.users().messages().list(userId='me',q='').execute();\n",
    "all_mes = [];\n",
    "if 'messages' in results:\n",
    "    all_mes.extend(results['messages'])\n",
    "\n",
    "while 'nextPageToken' in results:\n",
    "    page_token = results['nextPageToken']\n",
    "    results = gmail_service.users().messages().list(userId='me',q='', pageToken=page_token).execute();\n",
    "    all_mes.extend(results['messages'])\n",
    "\n",
    "N = len(all_mes)\n",
    "print N\n"
   ]
  },
  {
   "cell_type": "code",
   "execution_count": 3,
   "metadata": {
    "collapsed": false
   },
   "outputs": [],
   "source": [
    "#play with single message. Just for testing\n",
    "mes_id = all_mes[10]['id'];\n",
    "msg = gmail_service.users().messages().get(userId='me', id=mes_id, format='full').execute();\n",
    "response = msg[\"payload\"]\n"
   ]
  },
  {
   "cell_type": "code",
   "execution_count": 4,
   "metadata": {
    "collapsed": false,
    "scrolled": false
   },
   "outputs": [
    {
     "name": "stdout",
     "output_type": "stream",
     "text": [
      "Totally 186 responses:\n"
     ]
    }
   ],
   "source": [
    "#retrieve all the responses\n",
    "import re\n",
    "result_list = [];\n",
    "valid_response = 0;\n",
    "for mes in all_mes:\n",
    "    mes_id = mes['id'];\n",
    "    msg = gmail_service.users().messages().get(userId='me', id=mes_id, format='full').execute();\n",
    "    response = msg[\"payload\"]\n",
    "    #check headers\n",
    "    headers = response[\"headers\"];\n",
    "    check_header = True;\n",
    "    for item in headers:\n",
    "        if item[\"name\"] == \"From\":\n",
    "            if item[\"value\"]!='<ftvision1121@gmail.com>':\n",
    "                check_header = False;\n",
    "                break;\n",
    "    if check_header == False:\n",
    "        continue;\n",
    "    #mime_msg = email.message_from_string(msg_str)\n",
    "    k = 0;\n",
    "    valid_response += 1;\n",
    "    content = response[\"parts\"][0][\"body\"]\n",
    "    response_raw = content[\"data\"];\n",
    "    size = content[\"size\"];\n",
    "    response = base64.urlsafe_b64decode(response_raw.encode('ASCII')).split(\"\\n\")\n",
    "    picture1 = re.search('[0-9]*-[0-9]*.jpg', response[0]).group(0);\n",
    "    picture2 = re.search('[0-9]*-[0-9]*.jpg', response[1]).group(0);\n",
    "    rating = int(response[2][-1])\n",
    "    position = -1;\n",
    "    for i in range(len(result_list)):\n",
    "        if (result_list[i][\"picture1\"] == picture1) and (result_list[i][\"picture2\"]==picture2):\n",
    "            position = i;\n",
    "            break;\n",
    "    if position >= 0:\n",
    "        result_list[i][\"rating\"].append(rating)\n",
    "    else:\n",
    "        result_list.append({\"picture1\":picture1, \"picture2\":picture2, \"rating\":[rating]});\n",
    "            \n",
    "print \"Totally %d responses:\" % valid_response\n",
    "\n"
   ]
  },
  {
   "cell_type": "code",
   "execution_count": 5,
   "metadata": {
    "collapsed": false
   },
   "outputs": [
    {
     "name": "stdout",
     "output_type": "stream",
     "text": [
      "['5-2.jpg', [1, 2, 5, 3, 4, 6, 6, 1, 2, 1], '5-1.jpg']\n",
      "['3-1.jpg', [1, 4, 4, 2, 4, 4], '3-2.jpg']\n",
      "['6-1.jpg', [5, 6, 7, 5], '6-2.jpg']\n",
      "['10-2.jpg', [5, 3, 5, 2, 5, 6, 4, 6], '10-1.jpg']\n",
      "['8-1.jpg', [4, 3, 2, 1, 3, 3, 3, 2, 4, 5, 4, 3], '8-2.jpg']\n",
      "['11-2.jpg', [5, 5, 5, 7, 1, 6], '11-1.jpg']\n",
      "['8-2.jpg', [7, 1, 2, 2, 2, 2, 2, 1, 4, 3, 4], '8-1.jpg']\n",
      "['9-1.jpg', [1, 5, 5], '9-2.jpg']\n",
      "['12-1.jpg', [1, 1, 1, 3, 5, 5, 6, 4, 6], '12-2.jpg']\n",
      "['11-1.jpg', [5, 1, 6, 4, 2, 4, 5, 5, 4], '11-2.jpg']\n",
      "['4-1.jpg', [3, 3, 4, 4, 3, 5, 5, 4, 5, 2, 1], '4-2.jpg']\n",
      "['1-2.jpg', [3, 5, 1, 3, 6], '1-1.jpg']\n",
      "['2-2.jpg', [5, 5, 4, 3, 3, 3, 5, 7, 5, 5, 5, 5], '2-1.jpg']\n",
      "['7-2.jpg', [3, 5, 3, 1, 4, 4, 2, 1, 1, 1, 5, 3, 1], '7-1.jpg']\n",
      "['3-2.jpg', [4, 4, 7, 7, 4], '3-1.jpg']\n",
      "['9-2.jpg', [7, 6, 6, 6, 6, 5, 7], '9-1.jpg']\n",
      "['5-1.jpg', [1, 1, 7, 3, 3, 4, 4, 5], '5-2.jpg']\n",
      "['2-1.jpg', [5, 3, 3, 6, 6, 2], '2-2.jpg']\n",
      "['4-2.jpg', [4, 2, 5, 3, 2, 3, 3], '4-1.jpg']\n",
      "['7-1.jpg', [3, 4, 2, 5, 2, 6], '7-2.jpg']\n",
      "['12-2.jpg', [3, 6, 6, 3, 5, 2, 6, 1], '12-1.jpg']\n",
      "['10-1.jpg', [7, 4, 4, 5, 5, 5, 6, 6], '10-2.jpg']\n",
      "['6-2.jpg', [2, 4, 6, 3, 6, 5, 3], '6-1.jpg']\n",
      "['1-1.jpg', [2, 4, 1, 5, 2], '1-2.jpg']\n",
      "24\n"
     ]
    }
   ],
   "source": [
    "for item in result_list:\n",
    "    get_ans = [];\n",
    "    for key in item:\n",
    "        get_ans.append(item[key])\n",
    "    print get_ans;\n",
    "print len(result_list)\n"
   ]
  },
  {
   "cell_type": "code",
   "execution_count": 6,
   "metadata": {
    "collapsed": false
   },
   "outputs": [
    {
     "name": "stdout",
     "output_type": "stream",
     "text": [
      "Picture 1: 1-1.jpg , Picture 2: 1-2.jpg , rating: [3, 5, 1, 3, 6]\n",
      "Picture 1: 1-2.jpg , Picture 2: 1-1.jpg , rating: [2, 4, 1, 5, 2]\n",
      "Picture 1: 10-1.jpg, Picture 2: 10-2.jpg, rating: [5, 3, 5, 2, 5, 6, 4, 6]\n",
      "Picture 1: 10-2.jpg, Picture 2: 10-1.jpg, rating: [7, 4, 4, 5, 5, 5, 6, 6]\n",
      "Picture 1: 11-1.jpg, Picture 2: 11-2.jpg, rating: [5, 5, 5, 7, 1, 6]\n",
      "Picture 1: 11-2.jpg, Picture 2: 11-1.jpg, rating: [5, 1, 6, 4, 2, 4, 5, 5, 4]\n",
      "Picture 1: 12-1.jpg, Picture 2: 12-2.jpg, rating: [3, 6, 6, 3, 5, 2, 6, 1]\n",
      "Picture 1: 12-2.jpg, Picture 2: 12-1.jpg, rating: [1, 1, 1, 3, 5, 5, 6, 4, 6]\n",
      "Picture 1: 2-1.jpg , Picture 2: 2-2.jpg , rating: [5, 5, 4, 3, 3, 3, 5, 7, 5, 5, 5, 5]\n",
      "Picture 1: 2-2.jpg , Picture 2: 2-1.jpg , rating: [5, 3, 3, 6, 6, 2]\n",
      "Picture 1: 3-1.jpg , Picture 2: 3-2.jpg , rating: [4, 4, 7, 7, 4]\n",
      "Picture 1: 3-2.jpg , Picture 2: 3-1.jpg , rating: [1, 4, 4, 2, 4, 4]\n",
      "Picture 1: 4-1.jpg , Picture 2: 4-2.jpg , rating: [4, 2, 5, 3, 2, 3, 3]\n",
      "Picture 1: 4-2.jpg , Picture 2: 4-1.jpg , rating: [3, 3, 4, 4, 3, 5, 5, 4, 5, 2, 1]\n",
      "Picture 1: 5-1.jpg , Picture 2: 5-2.jpg , rating: [1, 2, 5, 3, 4, 6, 6, 1, 2, 1]\n",
      "Picture 1: 5-2.jpg , Picture 2: 5-1.jpg , rating: [1, 1, 7, 3, 3, 4, 4, 5]\n",
      "Picture 1: 6-1.jpg , Picture 2: 6-2.jpg , rating: [2, 4, 6, 3, 6, 5, 3]\n",
      "Picture 1: 6-2.jpg , Picture 2: 6-1.jpg , rating: [5, 6, 7, 5]\n",
      "Picture 1: 7-1.jpg , Picture 2: 7-2.jpg , rating: [3, 5, 3, 1, 4, 4, 2, 1, 1, 1, 5, 3, 1]\n",
      "Picture 1: 7-2.jpg , Picture 2: 7-1.jpg , rating: [3, 4, 2, 5, 2, 6]\n",
      "Picture 1: 8-1.jpg , Picture 2: 8-2.jpg , rating: [7, 1, 2, 2, 2, 2, 2, 1, 4, 3, 4]\n",
      "Picture 1: 8-2.jpg , Picture 2: 8-1.jpg , rating: [4, 3, 2, 1, 3, 3, 3, 2, 4, 5, 4, 3]\n",
      "Picture 1: 9-1.jpg , Picture 2: 9-2.jpg , rating: [7, 6, 6, 6, 6, 5, 7]\n",
      "Picture 1: 9-2.jpg , Picture 2: 9-1.jpg , rating: [1, 5, 5]\n"
     ]
    }
   ],
   "source": [
    "#sort results and have a look at responses\n",
    "sort_result = sorted(result_list, key=lambda k: k['picture1']) \n",
    "for item in sort_result:\n",
    "    print \"Picture 1: %-8s, Picture 2: %-8s, rating: %r\" % (item[\"picture1\"], item[\"picture2\"], item[\"rating\"])"
   ]
  },
  {
   "cell_type": "code",
   "execution_count": null,
   "metadata": {
    "collapsed": true
   },
   "outputs": [],
   "source": []
  }
 ],
 "metadata": {
  "kernelspec": {
   "display_name": "Python 2",
   "language": "python",
   "name": "python2"
  },
  "language_info": {
   "codemirror_mode": {
    "name": "ipython",
    "version": 2
   },
   "file_extension": ".py",
   "mimetype": "text/x-python",
   "name": "python",
   "nbconvert_exporter": "python",
   "pygments_lexer": "ipython2",
   "version": "2.7.10"
  }
 },
 "nbformat": 4,
 "nbformat_minor": 0
}
